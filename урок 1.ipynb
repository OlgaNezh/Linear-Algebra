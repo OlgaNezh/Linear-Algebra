{
 "cells": [
  {
   "cell_type": "markdown",
   "metadata": {},
   "source": [
    "### Урок 1"
   ]
  },
  {
   "cell_type": "markdown",
   "metadata": {},
   "source": [
    "### __1.__ Исследовать на линейную зависимость:\n",
    "\n",
    "$$f_{1}(x)=e^{x}, f_{2}(x)=1, f_{3}(x)=x+1, f_{4}(x)=x-e^{x}.$$\n"
   ]
  },
  {
   "cell_type": "markdown",
   "metadata": {},
   "source": [
    "$$1 \\cdot f_{1}(x) + 1 \\cdot f_{2}(x) + (-1) \\cdot f_{3}(x) + 1 \\cdot f_{4}(x) = 0 \\;\\;\\; \\forall x $$\n"
   ]
  },
  {
   "cell_type": "markdown",
   "metadata": {},
   "source": [
    "Следовательно, функции линейно зависимы\n",
    "\n"
   ]
  },
  {
   "cell_type": "markdown",
   "metadata": {},
   "source": [
    "### **2**. Исследовать на линейную зависимость:\n",
    "$$f_{1}(x)=2, f_{2}(x)=x, f_{3}(x)=x^{2}, f_{4}(x)=(x+1)^{2}$$"
   ]
  },
  {
   "cell_type": "markdown",
   "metadata": {},
   "source": [
    "$$ (-1) \\cdot f_{1}(x) + (-4) \\cdot f_{2}(x) + (-2) \\cdot f_{3}(x) + 2 \\cdot f_{4}(x) = 0\\;\\;\\; \\forall x $$\n",
    "Таким образом, функции линейно зависимы\n",
    "\n"
   ]
  },
  {
   "cell_type": "markdown",
   "metadata": {},
   "source": [
    "### __3.__ Найти координаты вектора $x = (2, 3, 5)\\in \\mathbb{R}^{3}$ в базисе $b_{1}=(0, 0, 10)$, $b_{2}=(2, 0, 0)$, $b_{3}=(0, 1, 0)$."
   ]
  },
  {
   "cell_type": "markdown",
   "metadata": {},
   "source": [
    "$x = (2, 0, 0) + (0, 3, 0) + (0, 0, 5) = 1 \\cdot (2, 0, 0) + 3 \\cdot (0, 1, 0) + 1/2 \\cdot (0, 0, 10) = 1b_{2} + 3b_{3} + 1/2b_{1}$"
   ]
  },
  {
   "cell_type": "markdown",
   "metadata": {},
   "source": [
    "Координаты вектора х в новом базисе будут $x = (1/2, 1, 3)$"
   ]
  },
  {
   "cell_type": "markdown",
   "metadata": {},
   "source": [
    "### __4.__ Найти координаты вектора $3x^{2}-2x+2\\in\\mathbb{R}^{3}[x]$:\n",
    "\n",
    "а) в базисе $1$, $x$, $x^{2}$;\n",
    "\n",
    "б) в базисе $x^{2}$, $x-1$, $1$. "
   ]
  },
  {
   "cell_type": "markdown",
   "metadata": {},
   "source": [
    "a) Вектор $3x^2 - 2x + 2$ в базисе $1, x, x^2$ будет иметь координаты (2, -2, 3)\n",
    "\n",
    "\n",
    "б) Вектор $3x^2 -2 \\cdot (x - 1) + 0$ в базисе $x^2, x - 1, 1$ будет иметь координаты (3, -2, 0)\n"
   ]
  },
  {
   "cell_type": "markdown",
   "metadata": {},
   "source": [
    "### __5.__ Установить, является ли линейным подпространством:\n",
    "\n",
    "а) совокупность всех векторов трехмерного пространства, у которых по крайней мере одна из первых двух координат равна нулю;\n",
    "    \n",
    "б) все векторы, являющиеся линейными комбинациями данных векторов $\\{u_{1}, u_{2}, \\ldots, u_{n}\\}$."
   ]
  },
  {
   "cell_type": "markdown",
   "metadata": {},
   "source": [
    "а) Нет, не является.  Пусть $a = (0,1,3), ~ b = (1,0,5)$. Тогда $ a + b = (1,1,8)$. Такой вектор не принадлежит данному множеству, а значит оно подпространством не является.\n",
    "\n",
    "б) Пусть $a = a_1 \\cdot u_1 + a_2 \\cdot u_2 + ... + a_n \\cdot u_n, ~ b = b_1 \\cdot u_1 + b_2 \\cdot u_2 + ... + b_n \\cdot u_n $. Тогда\n",
    "\n",
    "$$a + b = (a_1 + b_1) \\cdot u_1 + (a_2 + b_2) \\cdot u_2 + ... + (a_n + b_n) \\cdot u_n $$$$\\lambda \\cdot a = (\\lambda \\cdot a_1)\\cdot u_1 + (\\lambda \\cdot a_2)\\cdot u_2 + ... + (\\lambda \\cdot a_n)\\cdot u_n $$\n",
    "Так как $a+b, ~\\lambda \\cdot a$ также принадлежат нашему множеству, то оно является линейным подпространством.\n",
    "\n"
   ]
  },
  {
   "cell_type": "markdown",
   "metadata": {},
   "source": [
    "### Урок 2\n"
   ]
  },
  {
   "cell_type": "markdown",
   "metadata": {},
   "source": [
    "### __1.__ Найти скалярное произведение векторов $x, y \\in \\mathbb{R}$:<br>\n",
    "а) $x=(0,-3, 6),~y=(-4, 7, 9);$<br>\n",
    "б) $x=(7, -4, 0, 1),~y=(-3, 1, 11, 2).$\n"
   ]
  },
  {
   "cell_type": "markdown",
   "metadata": {},
   "source": [
    "а) $x \\cdot y = 0 \\cdot (-4) + (-3) \\cdot 7 + 6 \\cdot 9 = 33 $\n",
    "\n",
    "б) $x \\cdot y = 7 \\cdot (-3) + (-4) \\cdot 1 + 0 \\cdot 11 + 1 \\cdot 2 = -23 $\n",
    "\n"
   ]
  },
  {
   "cell_type": "markdown",
   "metadata": {},
   "source": [
    "### __2.__ Найти нормы векторов $(4, 2, 4)$ и $(12, 3, 4)$ и угол между ними."
   ]
  },
  {
   "cell_type": "markdown",
   "metadata": {},
   "source": [
    "$$\\|a\\| = \\sqrt{4^2 + 2^2 + 4^2} = 6,~\\|b\\| = \\sqrt{12^2 + 3^2 + 4^2} = 13, ~ a \\cdot b = 4 \\cdot 12 + 2 \\cdot 3 + 4 \\cdot 4 = 70 $$$$\\cos \\widehat{(a,b)} = \\frac{a \\cdot b}{\\|a\\|\\cdot\\|b\\|} = \\frac{35}{39}$$\n"
   ]
  },
  {
   "cell_type": "code",
   "execution_count": 4,
   "metadata": {},
   "outputs": [],
   "source": [
    "import numpy as np"
   ]
  },
  {
   "cell_type": "code",
   "execution_count": 2,
   "metadata": {},
   "outputs": [],
   "source": [
    "from numpy.linalg import norm"
   ]
  },
  {
   "cell_type": "code",
   "execution_count": 5,
   "metadata": {},
   "outputs": [],
   "source": [
    "a = np.array([4, 2, 4])\n",
    "b = np.array([12, 3, 4])"
   ]
  },
  {
   "cell_type": "code",
   "execution_count": 6,
   "metadata": {},
   "outputs": [
    {
     "name": "stdout",
     "output_type": "stream",
     "text": [
      "l1 Манхетовская норма вектора a:\n",
      "10.0\n"
     ]
    }
   ],
   "source": [
    "print(f'l1 Манхетовская норма вектора a:\\n{norm(a, ord=1)}')"
   ]
  },
  {
   "cell_type": "code",
   "execution_count": 7,
   "metadata": {},
   "outputs": [
    {
     "name": "stdout",
     "output_type": "stream",
     "text": [
      "l1 Манхетовская норма вектора b:\n",
      "19.0\n"
     ]
    }
   ],
   "source": [
    "print(f'l1 Манхетовская норма вектора b:\\n{norm(b, ord=1)}')"
   ]
  },
  {
   "cell_type": "code",
   "execution_count": 8,
   "metadata": {},
   "outputs": [
    {
     "name": "stdout",
     "output_type": "stream",
     "text": [
      "l2 Евклидова норма вектора а:\n",
      "6.0\n"
     ]
    }
   ],
   "source": [
    "print(f'l2 Евклидова норма вектора а:\\n{norm(a, ord=2)}')"
   ]
  },
  {
   "cell_type": "code",
   "execution_count": 9,
   "metadata": {},
   "outputs": [
    {
     "name": "stdout",
     "output_type": "stream",
     "text": [
      "l2 Евклидова норма вектора b:\n",
      "13.0\n"
     ]
    }
   ],
   "source": [
    "print(f'l2 Евклидова норма вектора b:\\n{norm(b, ord=2)}')"
   ]
  },
  {
   "cell_type": "code",
   "execution_count": 11,
   "metadata": {},
   "outputs": [],
   "source": [
    "cos_phi = np.dot(a, b) / norm(a) / norm(b)"
   ]
  },
  {
   "cell_type": "markdown",
   "metadata": {},
   "source": [
    "### __3.__ Будет ли линейное пространство евклидовым, если за скалярное произведение принять:<br>\n",
    "а) произведение длин векторов;<br>\n",
    "б) утроенное обычное скалярное произведение векторов?<br>"
   ]
  },
  {
   "cell_type": "markdown",
   "metadata": {},
   "source": [
    "a) $ a \\cdot b = 0 \\Leftrightarrow |a| = 0 $ и $|b| = 0 $. Просторанство будет Евклидовым только тогда, когда оно одномерное.\n",
    "(на основе материала http://publish.sutd.ru/e_books/lin_alg_2013/html/spep_72.html)\n",
    "\n",
    "б) Будет. Ортонормированным базисом в таком пространстве будет набор $\\xi_1 = (\\frac{1}{\\sqrt{3}},0,\\dots,0), \\xi_2 = (0, \\frac{1}{\\sqrt{3}},\\dots,0), \\dots, \\xi_n = (0, 0,\\dots,\\frac{1}{\\sqrt{3}}) $\n",
    "\n"
   ]
  },
  {
   "cell_type": "markdown",
   "metadata": {},
   "source": [
    "### __4.__ Какие из нижеперечисленных векторов образуют ортонормированный базис в линейном пространстве $\\mathbb{R}^{3}$:<br>\n",
    "а) $(1,0,0),(0,0,1);$ <br>\n",
    "б) $(1/\\sqrt{2},-1/\\sqrt{2},0),(1/\\sqrt{2},1/\\sqrt{2},0), (0,0,1);$<br>\n",
    "в) $(1/2, -1/2, 0), (0, 1/2, 1/2), (0,0,1);$<br>\n",
    "г) $(1,0,0),(0,1,0),(0,0,1)?$ \n"
   ]
  },
  {
   "cell_type": "markdown",
   "metadata": {},
   "source": [
    "a) Не являются базисом потому что задано только два вектора в трехмерном пространстве\n",
    "\n",
    "б) Являются ортонормированным базисом\n",
    "\n",
    "в) Данные вектора не являются ни ортогональными, ни нормированными\n",
    "\n",
    "г) Являются ортонормированным базисом"
   ]
  },
  {
   "cell_type": "code",
   "execution_count": null,
   "metadata": {},
   "outputs": [],
   "source": []
  }
 ],
 "metadata": {
  "kernelspec": {
   "display_name": "Python 3",
   "language": "python",
   "name": "python3"
  },
  "language_info": {
   "codemirror_mode": {
    "name": "ipython",
    "version": 3
   },
   "file_extension": ".py",
   "mimetype": "text/x-python",
   "name": "python",
   "nbconvert_exporter": "python",
   "pygments_lexer": "ipython3",
   "version": "3.8.5"
  }
 },
 "nbformat": 4,
 "nbformat_minor": 4
}

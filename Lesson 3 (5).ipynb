{
 "cells": [
  {
   "cell_type": "markdown",
   "id": "3defd357",
   "metadata": {},
   "source": [
    "### __1.__ Найти собственные векторы и собственные значения для линейного оператора, заданного матрицей\n",
    "\n",
    "$$A=\\begin{pmatrix}\n",
    "-1 & -6\\\\ \n",
    "2 & 6\n",
    "\\end{pmatrix}.$$"
   ]
  },
  {
   "cell_type": "markdown",
   "id": "14581a74",
   "metadata": {},
   "source": [
    "$$\\begin{vmatrix}\n",
    "-1 & - \\lambda & -6\\\\ \n",
    "2 & 6 &- \\lambda\n",
    "\\end{vmatrix} = \\lambda^2 - 5\\lambda + 6 = 0$$\n",
    "$$\\lambda_1 = 2, ~ \\lambda_2 = 3$$\n",
    "$\\lambda_1 = 2$:\n",
    "\n",
    "$$\\begin{pmatrix}\n",
    "-3 & -6\\\\ \n",
    "2 & 4\n",
    "\\end{pmatrix} \\cdot x^T = \\begin{pmatrix}\n",
    "0\\\\ \n",
    "0\n",
    "\\end{pmatrix}$$\n",
    "\n",
    "$x_1 = (2, -1)$\n",
    "\n",
    "$\\lambda_2 = 3$\n",
    "$$\\begin{pmatrix}\n",
    "-4 & -6\\\\ \n",
    "2 & 3\n",
    "\\end{pmatrix} \\cdot x^T = \\begin{pmatrix}\n",
    "0\\\\ \n",
    "0\n",
    "\\end{pmatrix}$$\n",
    "$x_2 = (3, -2)$\n",
    "\n"
   ]
  },
  {
   "cell_type": "markdown",
   "id": "2d63248d",
   "metadata": {},
   "source": [
    "### __2.__ Дан оператор поворота на 180 градусов, задаваемый матрицей \n",
    "\n",
    "$$A=\\begin{pmatrix}\n",
    "-1 & 0\\\\ \n",
    "0 & -1\n",
    "\\end{pmatrix}.$$\n",
    "\n",
    "Показать, что __любой__ вектор является для него собственным."
   ]
  },
  {
   "cell_type": "markdown",
   "id": "367b5517",
   "metadata": {},
   "source": [
    "Пусть $x = (a_1, a_2)$\n",
    "\n",
    "$$\\begin{pmatrix}\n",
    "-1 & 0\\\\ \n",
    "0 & -1\n",
    "\\end{pmatrix}\\cdot x^T = \\begin{pmatrix}\n",
    "-1 & 0\\\\ \n",
    "0 & -1\n",
    "\\end{pmatrix}\\cdot \\begin{pmatrix}\n",
    "a_1\\\\ \n",
    "a_2\n",
    "\\end{pmatrix} = \\begin{pmatrix}\n",
    "- a_1\\\\ \n",
    "- a_2\n",
    "\\end{pmatrix} = -1 \\cdot \\begin{pmatrix}\n",
    "a_1\\\\ \n",
    "a_2\n",
    "\\end{pmatrix} $$\n",
    "Таким образом, $A \\cdot x^T = -1 \\cdot x^T$, т.е. любой вектор является собственным для $\\lambda = -1$\n",
    "\n"
   ]
  },
  {
   "cell_type": "markdown",
   "id": "12b9c1a0",
   "metadata": {},
   "source": [
    "### __3.__ Пусть линейный оператор задан матрицей\n",
    "\n",
    "$$A=\\begin{pmatrix}\n",
    "1 & 1\\\\ \n",
    "-1 & 3\n",
    "\\end{pmatrix}.$$\n",
    "\n",
    "Установить, является ли вектор $x=(1,1)$ собственным вектором этого линейного оператора."
   ]
  },
  {
   "cell_type": "markdown",
   "id": "a3408de9",
   "metadata": {},
   "source": [
    "Найдем собственные значения линейного оператора."
   ]
  },
  {
   "cell_type": "markdown",
   "id": "637bd0d3",
   "metadata": {},
   "source": [
    "$\\begin{vmatrix}\n",
    "1 - \\lambda & 1\\\\ \n",
    "-1 & 3 - \\lambda\n",
    "\\end{vmatrix} = 0$\n",
    "$(1 - \\lambda)\\cdot(3 - \\lambda) - 1 \\cdot (-1) = 4 - 4 \\lambda + \\lambda^2 = 0$\n",
    "$\\lambda = 2$\n",
    "Для того, чтобы выяснить, является ли данный вектор $x$ собственным вектором линейного оператора нужно определить, выполняется ли равенство:\n",
    "$\\begin{pmatrix}\n",
    "1 & 1\\\\ \n",
    "-1 & 3\n",
    "\\end{pmatrix}\n",
    "\\begin{pmatrix}\n",
    "x_{1}\\\\ \n",
    "x_{2}\n",
    "\\end{pmatrix}=\n",
    "\\lambda\n",
    "\\begin{pmatrix}\n",
    "x_{1}\\\\ \n",
    "x_{2}\n",
    "\\end{pmatrix}.\n",
    "$\n",
    "\n",
    "$\\begin{cases}\n",
    "x_{1} + x_{2}= 2 \\cdot x_{1}, \\\\\n",
    "(-1) \\cdot x_{1} + 3 \\cdot x_{2}= 2 \\cdot x_{2}.\n",
    "\\end{cases}$\n",
    "\n",
    "$\\begin{cases}\n",
    "x_{2} = x_{1}, \\\\\n",
    "3 \\cdot x_{2}= 3 \\cdot x_{2}.\n",
    "\\end{cases}$\n",
    "\n",
    "Равенство выполняется, соответственно, данный вектор $x$ является собственным вектором линейного оператора $A$."
   ]
  },
  {
   "cell_type": "markdown",
   "id": "e5c92819",
   "metadata": {},
   "source": [
    "### __4.__ Пусть линейный оператор задан матрицей\n",
    "\n",
    "$$A=\\begin{pmatrix}\n",
    "0 & 3 & 0\\\\ \n",
    "3 & 0 & 0\\\\\n",
    "0 & 0 & 3\n",
    "\\end{pmatrix}.$$\n",
    "\n",
    "Установить, является ли вектор $x=(3, -3, -4)$ собственным вектором этого линейного оператора."
   ]
  },
  {
   "cell_type": "markdown",
   "id": "726eceb8",
   "metadata": {},
   "source": [
    "$$A \\cdot x^T = \\begin{pmatrix}\n",
    "0 & 3 & 0\\\\ \n",
    "3 & 0 & 0\\\\\n",
    "0 & 0 & 3\n",
    "\\end{pmatrix} \\cdot \\begin{pmatrix}\n",
    "3\\\\ \n",
    "-3\\\\\n",
    "-4\n",
    "\\end{pmatrix} = \\begin{pmatrix}\n",
    "-9\\\\ \n",
    "9\\\\\n",
    "-12\n",
    "\\end{pmatrix}$$\n",
    "Векторы $x^T$ и $A \\cdot x^T$ линейно независимы. $x$ не является собственным вектором матрицы $A$"
   ]
  },
  {
   "cell_type": "code",
   "execution_count": null,
   "id": "1fc614e8",
   "metadata": {},
   "outputs": [],
   "source": []
  }
 ],
 "metadata": {
  "kernelspec": {
   "display_name": "Python 3",
   "language": "python",
   "name": "python3"
  },
  "language_info": {
   "codemirror_mode": {
    "name": "ipython",
    "version": 3
   },
   "file_extension": ".py",
   "mimetype": "text/x-python",
   "name": "python",
   "nbconvert_exporter": "python",
   "pygments_lexer": "ipython3",
   "version": "3.8.8"
  }
 },
 "nbformat": 4,
 "nbformat_minor": 5
}

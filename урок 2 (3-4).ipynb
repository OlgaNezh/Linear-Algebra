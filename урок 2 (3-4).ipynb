{
 "cells": [
  {
   "cell_type": "markdown",
   "metadata": {},
   "source": [
    "### Урок 3"
   ]
  },
  {
   "cell_type": "markdown",
   "metadata": {},
   "source": [
    "### __1.__ Установить, какие произведения матриц $AB$ и $BA$ определены, и найти размерности полученных матриц:\n",
    "\n",
    "   "
   ]
  },
  {
   "cell_type": "markdown",
   "metadata": {},
   "source": [
    "а) $A$ — матрица $4\\times 2$, $B$ — матрица $4\\times 2$ $A \\times B$ и $B \\times A$ Невозможно выполнить произведение\n",
    "\n",
    "б) $A$ — матрица $2\\times 5$, $B$ — матрица $5\\times 3$ $A \\times B$ В результате произведеня получится матрица $2 \\times 3$, $B \\times A$ - Невозможно выполнить произведение\n",
    "\n",
    "в) $A$ — матрица $8\\times 3$, $B$ — матрица $3\\times 8$ В результате произведения $A\\times B$ получится матрица размерностью $8\\times8$, а в случае $B\\times A$ матрица будет размерностью $3\\times3$\n",
    "\n",
    "г) $A$ — квадратная матрица $4\\times 4$, $B$ — квадратная матрица $4\\times 4$ В результате произведения получится матрица размерностью $4\\times4$ в обоих случаях\n",
    "\n"
   ]
  },
  {
   "cell_type": "markdown",
   "metadata": {},
   "source": [
    "### __2.__ Найти сумму и произведение матриц $A=\\begin{pmatrix}\n",
    "1 & -2\\\\ \n",
    "3 & 0\n",
    "\\end{pmatrix}$ и $B=\\begin{pmatrix}\n",
    "4 & -1\\\\ \n",
    "0 & 5\n",
    "\\end{pmatrix}.$"
   ]
  },
  {
   "cell_type": "markdown",
   "metadata": {},
   "source": [
    "$$A + B = \\begin{pmatrix} 1 & -2\\\\ 3 & ~~0 \\end{pmatrix} + \\begin{pmatrix} 4 & -1\\\\ 0 & ~~5 \\end{pmatrix} = \\begin{pmatrix} 1 + 4 & -2 - 1\\\\ 3 + 0 & 0 + 5 \\end{pmatrix} = \\begin{pmatrix} 5 & -3\\\\ 3 & ~~5 \\end{pmatrix}$$$$A\\cdot B = \\begin{pmatrix} 1 & -2\\\\ 3 & ~~0 \\end{pmatrix} \\cdot \\begin{pmatrix} 4 & -1\\\\ 0 & ~~5 \\end{pmatrix} = \\begin{pmatrix} 1 \\cdot 4 + (-2) \\cdot 0 & 1 \\cdot (- 1)+(-2)\\cdot 5\\\\ 3 \\cdot 4 + 0 \\cdot 0 & 3 \\cdot (-1) + 5 \\cdot 0 \\end{pmatrix} = \\begin{pmatrix} 4 & -11\\\\ 12 & ~-3 \\end{pmatrix}$$$$B \\cdot A = \\begin{pmatrix} 4 & -1\\\\ 0 & ~~5 \\end{pmatrix} \\cdot \\begin{pmatrix} 1 & -2\\\\ 3 & ~~0 \\end{pmatrix} = \\begin{pmatrix} 4 \\cdot 1 + (-1) \\cdot 3 & 4 \\cdot (-2)+(-1)\\cdot 0\\\\ 0 \\cdot 1 + 3 \\cdot 5 & 0 \\cdot (-2) + 5 \\cdot 0 \\end{pmatrix} = \\begin{pmatrix} 1 & -8\\\\ 15 & ~~0 \\end{pmatrix} $$\n"
   ]
  },
  {
   "cell_type": "markdown",
   "metadata": {},
   "source": [
    "### __3.__ Из закономерностей сложения и умножения матриц на число можно сделать вывод, что матрицы одного размера образуют линейное пространство. Вычислить линейную комбинацию $3A-2B+4C$ для матриц $A=\\begin{pmatrix}\n",
    "1 & 7\\\\ \n",
    "3 & -6\n",
    "\\end{pmatrix}$, $B=\\begin{pmatrix}\n",
    "0 & 5\\\\ \n",
    "2 & -1\n",
    "\\end{pmatrix}$, $C=\\begin{pmatrix}\n",
    "2 & -4\\\\ \n",
    "1 & 1\n",
    "\\end{pmatrix}.$"
   ]
  },
  {
   "cell_type": "markdown",
   "metadata": {},
   "source": [
    "$$3A-2B+4C = 3\\cdot\\begin{pmatrix} 1 & ~~7\\\\ 3 & -6 \\end{pmatrix} -2\\cdot \\begin{pmatrix} 0 & ~~5\\\\ 2 & -1 \\end{pmatrix} +4\\cdot \\begin{pmatrix} 2 & -4\\\\ 1 & ~~1 \\end{pmatrix} = \\begin{pmatrix} 3 + 8 & 21 - 10 - 16\\\\ 9 - 4 + 4 & -18 + 2 + 4 \\end{pmatrix} = \\begin{pmatrix} 11 & -5\\\\ 9 & -12 \\end{pmatrix}$$\n"
   ]
  },
  {
   "cell_type": "markdown",
   "metadata": {},
   "source": [
    "### __4.__ Дана матрица $A=\\begin{pmatrix}\n",
    "4 & 1\\\\ \n",
    "5 & -2\\\\ \n",
    "2 & 3\n",
    "\\end{pmatrix}$.\n",
    "Вычислить $AA^{T}$ и $A^{T}A$."
   ]
  },
  {
   "cell_type": "markdown",
   "metadata": {},
   "source": [
    "$A=\\begin{pmatrix} 4 & 1\\\\ 5 & -2\\\\ 2 & 3 \\end{pmatrix} \\;\\; A^T=\\begin{pmatrix} 4 & 5 & 2\\\\ 1 & -2 & 3 \\end{pmatrix}$\n",
    "\n",
    "$AA^T=\\begin{pmatrix} 4 & 1\\\\ 5 & -2\\\\ 2 & 3 \\end{pmatrix} \\cdot \\begin{pmatrix} 4 & 5 & 2\\\\ 1 & -2 & 3 \\end{pmatrix} = \\begin{pmatrix} 4 \\cdot 4 + 1 \\cdot 1 & 4 \\cdot 5 + (-2) \\cdot 1 & 4 \\cdot 2 + 1 \\cdot 3\\\\ 5 \\cdot 4 + (-2) \\cdot 1 & 5 \\cdot 5 + (-2) \\cdot (-2) & 5 \\cdot 2 + (-2) \\cdot 3\\\\ 2 \\cdot 4 + 3 \\cdot 1 & 2 \\cdot 5 + 3 \\cdot (-2) & 2 \\cdot 2 + 3 \\cdot 3 \\end{pmatrix} = \\begin{pmatrix} 17 & 18 & 11\\\\ 18 & 29 & 4\\\\ 11 & 4 & 13 \\end{pmatrix}$\n",
    "\n",
    "$A^TA= \\begin{pmatrix} 4 & 5 & 2\\\\ 1 & -2 & 3 \\end{pmatrix} \\cdot \\begin{pmatrix} 4 & 1\\\\ 5 & -2\\\\ 2 & 3 \\end{pmatrix} = \\begin{pmatrix} 4 \\cdot 4 + 5 \\cdot 5 + 2 \\cdot 2 & 4 \\cdot 1 + 5 \\cdot (-2) + 2 \\cdot 3\\\\ 1 \\cdot 4 + 5 \\cdot (-2) + 3 \\cdot 2 & 1 \\cdot 1 + (-2) \\cdot (-2) + 3 \\cdot 3 \\end{pmatrix} = \\begin{pmatrix} 45 & 0\\\\ 0 & 14 \\end{pmatrix}$\n",
    "\n",
    "\n"
   ]
  },
  {
   "cell_type": "markdown",
   "metadata": {},
   "source": [
    "### __5*.__ Написать на Python функцию для перемножения двух произвольных матриц, не используя NumPy."
   ]
  },
  {
   "cell_type": "code",
   "execution_count": 2,
   "metadata": {},
   "outputs": [],
   "source": [
    "def mult_matrix(a: list, b: list):\n",
    "    m_a = len(a)\n",
    "    n_a = len(a[0])\n",
    "    m_b = len(b)\n",
    "    n_b = len(b[0])\n",
    "    result = [[0 for _ in range(m_a)] for _ in range(n_b)]\n",
    "    try:\n",
    "        if not m_a == n_b and not m_b == n_a:\n",
    "            raise IndexError\n",
    "        for line in range(m_a):\n",
    "            for value in range(n_b):\n",
    "                result[line][value] += sum([a[line][pos] * b[pos][value] for pos in range(n_a)])\n",
    "        return result\n",
    "    except IndexError:\n",
    "        print('Матрица не удовлетворяет условиям MxN = NxM, либо не является прямоугольной.')\n"
   ]
  },
  {
   "cell_type": "code",
   "execution_count": 3,
   "metadata": {},
   "outputs": [
    {
     "data": {
      "text/plain": [
       "[[6, 12], [6, 12]]"
      ]
     },
     "execution_count": 3,
     "metadata": {},
     "output_type": "execute_result"
    }
   ],
   "source": [
    "mult_matrix([[1, 2, 3], [1, 2, 3]], [[1, 2], [1, 2], [1, 2]])"
   ]
  },
  {
   "cell_type": "code",
   "execution_count": 4,
   "metadata": {},
   "outputs": [
    {
     "data": {
      "text/plain": [
       "[[1, 2, 3], [1, 2, 3], [1, 2, 3]]"
      ]
     },
     "execution_count": 4,
     "metadata": {},
     "output_type": "execute_result"
    }
   ],
   "source": [
    "mult_matrix([[1, 2, 3], [1, 2, 3], [1, 2, 3]], [[1, 0, 0], [0, 1, 0], [0, 0, 1]])"
   ]
  },
  {
   "cell_type": "code",
   "execution_count": 5,
   "metadata": {},
   "outputs": [
    {
     "name": "stdout",
     "output_type": "stream",
     "text": [
      "Матрица не удовлетворяет условиям MxN = NxM, либо не является прямоугольной.\n"
     ]
    }
   ],
   "source": [
    "mult_matrix([[1, 2, 3, 4, 5, 6]], [[1, 2, 3, 4, 5, 6]])"
   ]
  },
  {
   "cell_type": "markdown",
   "metadata": {},
   "source": [
    "### Урок 4"
   ]
  },
  {
   "cell_type": "markdown",
   "metadata": {},
   "source": [
    "### __1.__ Вычислить определитель:\n",
    "\n",
    "   a)\n",
    "\n",
    "$$\\begin{vmatrix}\n",
    "sinx & -cosx\\\\ \n",
    "cosx & sinx\n",
    "\\end{vmatrix};$$\n",
    "\n",
    "   б)\n",
    "    \n",
    "$$\\begin{vmatrix}\n",
    "4 & 2 & 3\\\\ \n",
    "0 & 5 & 1\\\\ \n",
    "0 & 0 & 9\n",
    "\\end{vmatrix};$$\n",
    "    \n",
    "   в)\n",
    "\n",
    "$$\\begin{vmatrix}\n",
    "1 & 2 & 3\\\\ \n",
    "4 & 5 & 6\\\\ \n",
    "7 & 8 & 9\n",
    "\\end{vmatrix}.$$"
   ]
  },
  {
   "cell_type": "markdown",
   "metadata": {},
   "source": [
    "а) $$\\begin{vmatrix} sinx & -cosx\\\\ cosx & sinx \\end{vmatrix} = \\sin x\\cdot \\sin x-\\cos x\\cdot(-cos x) = \\sin^{2}x + \\cos^{2}x = 1$$\n",
    "\n",
    "б)\n",
    "\n",
    "$$\\begin{vmatrix} 4 & 2 & 3\\\\ 0 & 5 & 1\\\\ 0 & 0 & 9 \\end{vmatrix} = 4 \\cdot 5 \\cdot 9 = 180$$\n",
    "в) $\\begin{vmatrix} 1 & 2 & 3\\\\ 4 & 5 & 6\\\\ 7 & 8 & 9 \\end{vmatrix}$\n",
    "\n",
    "От второй и третьей строк отнимем первую. Тогда:\n",
    "\n",
    "$$\\begin{vmatrix} 1 & 2 & 3\\\\ 4 & 5 & 6\\\\ 7 & 8 & 9 \\end{vmatrix} = \\begin{vmatrix} 1 & 2 & 3\\\\ 3 & 3 & 3\\\\ 6 & 6 & 6 \\end{vmatrix} = 3 \\cdot \\begin{vmatrix} 1 & 2 & 3\\\\ 1 & 1 & 1\\\\ 0 & 0 & 0 \\end{vmatrix} = 0$$\n"
   ]
  },
  {
   "cell_type": "markdown",
   "metadata": {},
   "source": [
    "### __2.__ Определитель матрицы $A$ равен $4$. Найти:\n",
    "\n",
    "   а) $det(A^{2})$;\n",
    "    \n",
    "   б) $det(A^{T})$;\n",
    "    \n",
    "   в) $det(2A)$."
   ]
  },
  {
   "cell_type": "markdown",
   "metadata": {},
   "source": [
    "\n",
    "а) $det(A^{2}) = 4 \\cdot 4 = 16$\n",
    "\n",
    "б) $det(A^{T}) = 4$\n",
    "\n",
    "в) $det(2A)= 2^{n} \\cdot 4 = 2^{n+2}$\n",
    "\n"
   ]
  },
  {
   "cell_type": "markdown",
   "metadata": {},
   "source": [
    "### __3.__  Доказать, что матрица\n",
    "\n",
    "$$\\begin{pmatrix}\n",
    "-2 & 7 & -3\\\\ \n",
    "4 & -14 & 6\\\\ \n",
    "-3 & 7 & 13\n",
    "\\end{pmatrix}$$\n",
    "   \n",
    "вырожденная.\n"
   ]
  },
  {
   "cell_type": "markdown",
   "metadata": {},
   "source": [
    "$det{\\begin{pmatrix} (-2) & 7 & (-3)\\\\ 4 & (-14) & 6\\\\ (-3) & 7 & 13 \\end{pmatrix}} = (-2) \\cdot \\begin{pmatrix} (-14) & 6\\\\ 7 & 13 \\end{pmatrix} - 7 \\cdot \\begin{pmatrix} 4 & 6\\\\ (-3) & 13 \\end{pmatrix} + (-3) \\cdot \\begin{pmatrix} 4 & (-14)\\\\ (-3) & 7 \\end{pmatrix} = (-2) \\cdot ((-14) \\cdot 13 - 6 \\cdot 7) - 7 \\cdot (4 \\cdot 13 - 6 \\cdot (-3)) - (-3) \\cdot (4 \\cdot 7 - (-14) \\cdot (-3)) = 0$\n",
    "\n"
   ]
  },
  {
   "cell_type": "markdown",
   "metadata": {},
   "source": [
    "Поскольку определитель матрицы равен нулю, она является вырожденной."
   ]
  },
  {
   "cell_type": "markdown",
   "metadata": {},
   "source": [
    "### __4.__ Найти ранг матрицы:\n",
    "\n",
    "   а) $\\begin{pmatrix}\n",
    "1 & 2 & 3\\\\ \n",
    "1 & 1 & 1\\\\ \n",
    "2 & 3 & 4\n",
    "\\end{pmatrix};$\n",
    "\n",
    "   б) $\\begin{pmatrix}\n",
    "0 & 0 & 2 & 1\\\\ \n",
    "0 & 0 & 2 & 2\\\\ \n",
    "0 & 0 & 4 & 3\\\\ \n",
    "2 & 3 & 5 & 6\n",
    "\\end{pmatrix}.$"
   ]
  },
  {
   "cell_type": "markdown",
   "metadata": {},
   "source": [
    "а)\n",
    "\n",
    "$\\mbox{rank}\\begin{pmatrix} 1 & 2 & 3\\\\ 1 & 1 & 1\\\\ 2 & 3 & 4 \\end{pmatrix} = \\mbox{rank}\\begin{pmatrix} 0 & 1 & 2\\\\ 1 & 1 & 1\\\\ 0 & 1 & 2 \\end{pmatrix} = \\mbox{rank}\\begin{pmatrix} 1 & 1 & 1\\\\ 0 & 1 & 2 \\end{pmatrix} = 2$\n",
    "\n",
    "т.к. $\\begin{vmatrix} 1 & 1\\\\ 0 & 1 \\end{vmatrix} = 1 \\neq 0$, то есть существует отличный от нуля минор второго порядка.\n",
    "\n",
    "б) Матрица является вырожденной, поскольку содержит два пропорциональных столбца (первый и второй)\n",
    "\n",
    "$$ \\begin{vmatrix} 0 & 2 & 2\\\\ 0 & 4 & 3\\\\ 3 & 5 & 6 \\end{vmatrix} = 3\\cdot \\begin{vmatrix} 2 & 2\\\\ 4 & 3 \\end{vmatrix} = -6 \\neq 0$$\n",
    "Таким образом, $$\\mbox{rank}\\begin{pmatrix} 0 & 0 & 2 & 1\\\\ 0 & 0 & 2 & 2\\\\ 0 & 0 & 4 & 3\\\\ 2 & 3 & 5 & 6 \\end{pmatrix} = 3$$"
   ]
  },
  {
   "cell_type": "code",
   "execution_count": null,
   "metadata": {},
   "outputs": [],
   "source": []
  }
 ],
 "metadata": {
  "kernelspec": {
   "display_name": "Python 3",
   "language": "python",
   "name": "python3"
  },
  "language_info": {
   "codemirror_mode": {
    "name": "ipython",
    "version": 3
   },
   "file_extension": ".py",
   "mimetype": "text/x-python",
   "name": "python",
   "nbconvert_exporter": "python",
   "pygments_lexer": "ipython3",
   "version": "3.8.5"
  }
 },
 "nbformat": 4,
 "nbformat_minor": 4
}
